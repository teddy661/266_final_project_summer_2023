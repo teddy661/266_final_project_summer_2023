{
 "cells": [
  {
   "attachments": {},
   "cell_type": "markdown",
   "metadata": {},
   "source": [
    "## Imports"
   ]
  },
  {
   "cell_type": "code",
   "execution_count": 1,
   "metadata": {
    "scrolled": true
   },
   "outputs": [],
   "source": [
    "import os\n",
    "from pathlib import Path\n",
    "\n",
    "import numpy as np\n",
    "\n",
    "os.environ[\"TF_CPP_MIN_LOG_LEVEL\"] = \"4\"\n",
    "import tensorflow as tf\n",
    "\n",
    "tf.get_logger().setLevel(\"ERROR\")\n"
   ]
  },
  {
   "cell_type": "markdown",
   "metadata": {},
   "source": [
    "### Extract the weights for all 25 hidden layers"
   ]
  },
  {
   "cell_type": "code",
   "execution_count": null,
   "metadata": {},
   "outputs": [],
   "source": [
    "import models.bert_learned_pooler as bert_learned_pooler\n",
    "\n",
    "dict = {}\n",
    "for i in (20, 40, 60, 80):\n",
    "    bert_model = bert_learned_pooler.create_learned_pooler(i)\n",
    "    bert_model.load_weights(\n",
    "        f\"./models/learned_pooler_epochs_{i}/training_checkpoints/ckpt_0001.ckpt\"\n",
    "    )\n",
    "    w = bert_model.weights[-4].numpy()\n",
    "    top_12 = np.sort(w.argsort()[-12:][::-1])\n",
    "    dict[i] = repr(top_12)\n",
    "    del bert_model\n",
    "\n",
    "print(dict)\n"
   ]
  },
  {
   "cell_type": "markdown",
   "metadata": {},
   "source": [
    "### evaluate specific model using squadv2 scripts"
   ]
  },
  {
   "cell_type": "code",
   "execution_count": 2,
   "metadata": {},
   "outputs": [
    {
     "name": "stdout",
     "output_type": "stream",
     "text": [
      "loading the base model from checkpoint 1...\n"
     ]
    },
    {
     "name": "stderr",
     "output_type": "stream",
     "text": [
      "Some weights of the PyTorch model were not used when initializing the TF 2.0 model TFBertModel: ['cls.predictions.transform.LayerNorm.weight', 'cls.seq_relationship.bias', 'cls.predictions.transform.dense.bias', 'cls.predictions.transform.LayerNorm.bias', 'cls.predictions.bias', 'cls.predictions.transform.dense.weight', 'cls.seq_relationship.weight']\n",
      "- This IS expected if you are initializing TFBertModel from a PyTorch model trained on another task or with another architecture (e.g. initializing a TFBertForSequenceClassification model from a BertForPreTraining model).\n",
      "- This IS NOT expected if you are initializing TFBertModel from a PyTorch model that you expect to be exactly identical (e.g. initializing a TFBertForSequenceClassification model from a BertForSequenceClassification model).\n",
      "All the weights of TFBertModel were initialized from the PyTorch model.\n",
      "If your task is similar to the task the model of the checkpoint was trained on, you can already use TFBertModel for predictions without further training.\n"
     ]
    },
    {
     "name": "stdout",
     "output_type": "stream",
     "text": [
      "[-0.7286164  -0.68705434 -0.7754198  -0.7786671  -0.6581254  -0.84351796\n",
      " -0.7038068  -0.78308666 -0.69364554 -0.7104143  -0.74511576 -0.67180556\n",
      " -0.5480674  -0.5075096  -0.6255021  -0.65797615 -0.6923896  -0.8698429\n",
      " -0.75600356 -0.25995982  0.2591863   0.38232687  0.6862729   0.9188513\n",
      "  1.3424544 ]\n",
      "[ 4 11 12 13 14 15 19 20 21 22 23 24]\n"
     ]
    }
   ],
   "source": [
    "from models.model_scorer import generate_scoring_dict\n",
    "import models.bert_learned_pooler as bert_learned_pooler\n",
    "\n",
    "i = 1\n",
    "bert_model = bert_learned_pooler.create_learned_pooler(i)\n",
    "bert_model.load_weights(f\"./models/learned_pooler_epochs_{i}/training_checkpoints/ckpt_0001.ckpt\")\n",
    "w = bert_model.weights[-4].numpy()\n",
    "print([f\"{i:w[i]}\" for i in len(w)])\n",
    "top_12 = np.sort(w.argsort()[-12:][::-1])\n",
    "print(top_12)\n"
   ]
  },
  {
   "cell_type": "code",
   "execution_count": 12,
   "metadata": {},
   "outputs": [
    {
     "name": "stdout",
     "output_type": "stream",
     "text": [
      "[0.02270178 0.0236652  0.02166374 0.02159351 0.02435981 0.02023759\n",
      " 0.02327205 0.02149829 0.02350973 0.02311879 0.02233029 0.02402883\n",
      " 0.02719389 0.02831949 0.02516761 0.02436344 0.02353927 0.01971179\n",
      " 0.02208848 0.03627396 0.06096172 0.06895035 0.09344124 0.11790877\n",
      " 0.18010037]\n",
      "0.5213624548959566\n"
     ]
    }
   ],
   "source": [
    "exp_w = [np.exp(i) for i in w]\n",
    "print(exp_w / sum(exp_w))\n",
    "print(sum(exp_w[-5:]) / sum(exp_w))\n"
   ]
  },
  {
   "cell_type": "code",
   "execution_count": null,
   "metadata": {},
   "outputs": [],
   "source": [
    "w = bert_model.weights[-4].numpy()\n",
    "t = bert_model.weights[-3].numpy()\n",
    "layer_to_weight = dict(zip(range(len(w)), w))\n",
    "layer_to_weight\n"
   ]
  },
  {
   "cell_type": "markdown",
   "metadata": {},
   "source": [
    "Get the top 12 absolute weights from layer_to_weight"
   ]
  },
  {
   "cell_type": "code",
   "execution_count": null,
   "metadata": {},
   "outputs": [],
   "source": [
    "top_12 = abs(w).argsort()[-12:][::-1]\n",
    "top_12\n"
   ]
  }
 ],
 "metadata": {
  "kernelspec": {
   "display_name": "Python 3",
   "language": "python",
   "name": "python3"
  },
  "language_info": {
   "codemirror_mode": {
    "name": "ipython",
    "version": 3
   },
   "file_extension": ".py",
   "mimetype": "text/x-python",
   "name": "python",
   "nbconvert_exporter": "python",
   "pygments_lexer": "ipython3",
   "version": "3.11.4"
  }
 },
 "nbformat": 4,
 "nbformat_minor": 4
}
